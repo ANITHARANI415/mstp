{
 "cells": [
  {
   "cell_type": "markdown",
   "metadata": {},
   "source": [
    "### working with files in python\n",
    "####  file\n",
    "document to store information or data\n"
   ]
  },
  {
   "cell_type": "markdown",
   "metadata": {},
   "source": [
    "### read or write"
   ]
  },
  {
   "cell_type": "markdown",
   "metadata": {},
   "source": [
    "#### 3 steps to work with files in python\n",
    "##### 1.open the file \n",
    "##### 2.do operates what you required\n",
    "##### 3."
   ]
  },
  {
   "cell_type": "markdown",
   "metadata": {},
   "source": [
    "#### reading the file"
   ]
  },
  {
   "cell_type": "code",
   "execution_count": 2,
   "metadata": {},
   "outputs": [
    {
     "name": "stdout",
     "output_type": "stream",
     "text": [
      "line 1\n",
      "line 2\n",
      "line 3\n",
      "line 4\n",
      "\n"
     ]
    }
   ],
   "source": [
    "fh = open('book1.txt','r')\n",
    "\n",
    "data=fh.read()\n",
    "\n",
    "\n",
    "print(data)\n",
    "\n",
    "fh.close()"
   ]
  },
  {
   "cell_type": "markdown",
   "metadata": {},
   "source": [
    "#### write into file"
   ]
  },
  {
   "cell_type": "code",
   "execution_count": 3,
   "metadata": {},
   "outputs": [],
   "source": [
    "fh=open('notes.txt','w')\n",
    "\n",
    "fh.write('hi hello')\n",
    "\n",
    "fh.close()"
   ]
  },
  {
   "cell_type": "code",
   "execution_count": 5,
   "metadata": {},
   "outputs": [],
   "source": [
    "fh=open('notes.txt','w')\n",
    "\n",
    "fh.write('who r u')\n",
    "\n",
    "fh.close()"
   ]
  },
  {
   "cell_type": "markdown",
   "metadata": {},
   "source": [
    "#### write the content from book.txt to notes.txt"
   ]
  },
  {
   "cell_type": "code",
   "execution_count": 14,
   "metadata": {},
   "outputs": [
    {
     "name": "stdout",
     "output_type": "stream",
     "text": [
      "4\n"
     ]
    }
   ],
   "source": [
    "count=0\n",
    "fh=open('book1.txt','r')\n",
    "data=fh.read()\n",
    "for d in data:\n",
    "    if(d=='\\n'):\n",
    "        count=count+1\n",
    "fh.close()\n",
    "print(count)\n"
   ]
  },
  {
   "cell_type": "code",
   "execution_count": 13,
   "metadata": {},
   "outputs": [
    {
     "name": "stdout",
     "output_type": "stream",
     "text": [
      "line 3\n",
      "\n"
     ]
    }
   ],
   "source": [
    "i=1\n",
    "fh=open('book1.txt','r')\n",
    "for line in fh:\n",
    "    if(i==3):\n",
    "        print(line)\n",
    "        i=i+1\n",
    "    else:\n",
    "            i=i+1\n",
    "fh.close()"
   ]
  },
  {
   "cell_type": "code",
   "execution_count": 2,
   "metadata": {},
   "outputs": [
    {
     "name": "stdout",
     "output_type": "stream",
     "text": [
      "16\n"
     ]
    }
   ],
   "source": [
    "def countChar():\n",
    "    f =  open('book1.txt','r')\n",
    "    count=0\n",
    "    for line in f:\n",
    "        for i in line:\n",
    "            if(i.isalpha()):\n",
    "                count=count+1\n",
    "    print(count)\n",
    "    f.close()\n",
    "\n",
    "countChar()\n",
    "\n",
    "\n"
   ]
  },
  {
   "cell_type": "code",
   "execution_count": 4,
   "metadata": {},
   "outputs": [
    {
     "name": "stdout",
     "output_type": "stream",
     "text": [
      " Enter a character : 2\n",
      "1\n"
     ]
    }
   ],
   "source": [
    "def countChar(ch):\n",
    "    f =  open('book1.txt','r')\n",
    "    count=0\n",
    "    for line in f:\n",
    "        for i in line:\n",
    "            if(i==ch):\n",
    "                count=count+1\n",
    "    print(count)\n",
    "    f.close()\n",
    "\n",
    "ch=input(\" Enter a character : \")\n",
    "countChar(ch)\n"
   ]
  },
  {
   "cell_type": "code",
   "execution_count": null,
   "metadata": {},
   "outputs": [],
   "source": [
    "\n",
    "def countSum():\n",
    "    f =  open('book1.txt','r')\n",
    "    count=0\n",
    "    for line in f:\n",
    "        for i in line:\n",
    "            if(i.isdigit()):\n",
    "                count=count+int(i)\n",
    "    print(count)\n",
    "    f.close()\n",
    "\n",
    "\n",
    "countSum()\n",
    "\n"
   ]
  },
  {
   "cell_type": "code",
   "execution_count": null,
   "metadata": {},
   "outputs": [],
   "source": []
  }
 ],
 "metadata": {
  "kernelspec": {
   "display_name": "Python 3",
   "language": "python",
   "name": "python3"
  },
  "language_info": {
   "codemirror_mode": {
    "name": "ipython",
    "version": 3
   },
   "file_extension": ".py",
   "mimetype": "text/x-python",
   "name": "python",
   "nbconvert_exporter": "python",
   "pygments_lexer": "ipython3",
   "version": "3.7.3"
  }
 },
 "nbformat": 4,
 "nbformat_minor": 2
}
