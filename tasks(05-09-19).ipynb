{
 "cells": [
  {
   "cell_type": "markdown",
   "metadata": {},
   "source": [
    "### create function to check given data valid or not for given pattern\n",
    "#### 1.create function for mobile number validator\n",
    "#### 2.create function for person name validator\n",
    "#### 3.create function to check given data valid or not for given pattern\n",
    "\n",
    "\n"
   ]
  },
  {
   "cell_type": "code",
   "execution_count": 1,
   "metadata": {},
   "outputs": [
    {
     "name": "stdout",
     "output_type": "stream",
     "text": [
      "Valid Number\n"
     ]
    }
   ],
   "source": [
    "import re   \n",
    "def isValid(s):  \n",
    "    Pattern = re.compile(\"[8-9][0-9]{9}\") \n",
    "    return Pattern.match(s) \n",
    "s = \"9493375366\"\n",
    "if (isValid(s)):  \n",
    "    print(\"Valid Number\")      \n",
    "else : \n",
    "    print(\"Invalid Number\")  \n",
    "  "
   ]
  },
  {
   "cell_type": "code",
   "execution_count": 2,
   "metadata": {},
   "outputs": [
    {
     "name": "stdout",
     "output_type": "stream",
     "text": [
      "Anitha\n"
     ]
    }
   ],
   "source": [
    "def name(s): \n",
    "    l = s.split() \n",
    "    new = \"\"  \n",
    "    for i in range(len(l)-1): \n",
    "        s = l[i]  \n",
    "        new += (s[0].upper()+'.') \n",
    "    new += l[-1].title()  \n",
    "    return new\n",
    "s =\"anitha\" \n",
    "print(name(s))   "
   ]
  },
  {
   "cell_type": "code",
   "execution_count": 3,
   "metadata": {},
   "outputs": [
    {
     "name": "stdout",
     "output_type": "stream",
     "text": [
      "Invalid Ip address\n",
      "Invalid Ip address\n",
      "Invalid Ip address\n"
     ]
    }
   ],
   "source": [
    "import re\n",
    "regex = '''^([0-9][0-9]?)\\.( \n",
    "            [0-9][0-9]?)\\.( \n",
    "            [-9][0-9]?)\\.( \n",
    "            [0-9][0-9]?)'''\n",
    "def check(Ip):  \n",
    "    if(re.search(regex, Ip)):  \n",
    "        print(\"Valid Ip address\")  \n",
    "          \n",
    "    else:  \n",
    "        print(\"Invalid Ip address\")  \n",
    "if __name__ == '__main__' :   \n",
    "    Ip = \"1-162\"\n",
    "    check(Ip) \n",
    "  \n",
    "    Ip = \"1-163\"\n",
    "    check(Ip) \n",
    "  \n",
    "    Ip = \"366.1.2.2\"\n",
    "    check(Ip) "
   ]
  },
  {
   "cell_type": "markdown",
   "metadata": {},
   "source": [
    "#### append mode"
   ]
  },
  {
   "cell_type": "code",
   "execution_count": 4,
   "metadata": {},
   "outputs": [],
   "source": [
    "fh=open('notes.txt','a')\n",
    "\n",
    "fh.write('new line')\n",
    "\n",
    "fh.close()"
   ]
  },
  {
   "cell_type": "code",
   "execution_count": 8,
   "metadata": {},
   "outputs": [
    {
     "name": "stdout",
     "output_type": "stream",
     "text": [
      "line 1\n",
      "\n",
      "line 2\n",
      "\n",
      "line 3\n",
      "\n",
      "line 4\n",
      "\n"
     ]
    }
   ],
   "source": [
    "fh=open('book1.txt','r')\n",
    "\n",
    "for line in fh:\n",
    "    print(line)\n",
    "    \n",
    "fh.close()\n",
    "    "
   ]
  },
  {
   "cell_type": "markdown",
   "metadata": {},
   "source": [
    "#### 1.find number of lines in 'books.txt'file\n",
    "#### 2.print 3rd line in the file\n",
    "#### 3.print last character in the 3rd line\n",
    "#### 4.create function to return the data of given line number\n",
    "#### 5.create function to find the number of chracters in file\n",
    "#### 6.create function to count the occurance of the given character\n",
    "#### 7.create function to find the sum of digits in a file\n",
    "#### 8.create function to replace the all old word with new word in file \n",
    "#### 9.fiind number of words in file\n",
    "#### 10.create function to remove the given line in file \n",
    "#### 11.create function to remove the given word in file"
   ]
  },
  {
   "cell_type": "code",
   "execution_count": 1,
   "metadata": {},
   "outputs": [
    {
     "name": "stdout",
     "output_type": "stream",
     "text": [
      "4\n"
     ]
    }
   ],
   "source": [
    "count=0\n",
    "fh=open('book1.txt','r')\n",
    "data=fh.read()\n",
    "for d in data:\n",
    "    if(d=='\\n'):\n",
    "        count=count+1\n",
    "fh.close()\n",
    "print(count)\n"
   ]
  },
  {
   "cell_type": "code",
   "execution_count": 2,
   "metadata": {},
   "outputs": [
    {
     "name": "stdout",
     "output_type": "stream",
     "text": [
      "line 3\n",
      "\n"
     ]
    }
   ],
   "source": [
    "i=1\n",
    "fh=open('book1.txt','r')\n",
    "for line in fh:\n",
    "    if(i==3):\n",
    "        print(line)\n",
    "        i=i+1\n",
    "    else:\n",
    "            i=i+1\n",
    "fh.close()"
   ]
  },
  {
   "cell_type": "code",
   "execution_count": 9,
   "metadata": {},
   "outputs": [
    {
     "name": "stdout",
     "output_type": "stream",
     "text": [
      "2\n",
      "line 2\n",
      "\n"
     ]
    }
   ],
   "source": [
    "def display(n):\n",
    "    f =  open('book1.txt','r')\n",
    "    count=1\n",
    "    flag=0\n",
    "    for line in f:\n",
    "        if count==n:\n",
    "            print(line)\n",
    "            flag=1\n",
    "            break\n",
    "        count=count+1\n",
    "    if(flag==0):\n",
    "        print(\" Please enter valid number ... \")\n",
    "    f.close()\n",
    "    \n",
    "n=int(input())\n",
    "display(n)"
   ]
  },
  {
   "cell_type": "code",
   "execution_count": null,
   "metadata": {},
   "outputs": [],
   "source": []
  }
 ],
 "metadata": {
  "kernelspec": {
   "display_name": "Python 3",
   "language": "python",
   "name": "python3"
  },
  "language_info": {
   "codemirror_mode": {
    "name": "ipython",
    "version": 3
   },
   "file_extension": ".py",
   "mimetype": "text/x-python",
   "name": "python",
   "nbconvert_exporter": "python",
   "pygments_lexer": "ipython3",
   "version": "3.7.3"
  }
 },
 "nbformat": 4,
 "nbformat_minor": 2
}
