{
 "cells": [
  {
   "cell_type": "markdown",
   "metadata": {},
   "source": [
    "# fuunctions\n",
    "\n",
    "# 1.without argument and without return\n",
    "# 2.without argument and with return\n",
    "# 3.with argument and without return\n",
    "# 4.with argument and with return\n",
    "\n",
    "\n",
    "\n",
    "\n",
    "\n",
    "\n",
    "\n"
   ]
  },
  {
   "cell_type": "code",
   "execution_count": 1,
   "metadata": {},
   "outputs": [
    {
     "name": "stdout",
     "output_type": "stream",
     "text": [
      "6\n",
      "6\n",
      "36\n"
     ]
    }
   ],
   "source": [
    "### without argument and without return\n",
    "def mul():\n",
    "    a=int(input())\n",
    "    b=int(input())\n",
    "    c=a*b\n",
    "    print(c)\n",
    "mul() \n",
    "\n",
    "\n",
    "\n"
   ]
  },
  {
   "cell_type": "code",
   "execution_count": 2,
   "metadata": {},
   "outputs": [
    {
     "name": "stdout",
     "output_type": "stream",
     "text": [
      "5\n",
      "4\n"
     ]
    },
    {
     "data": {
      "text/plain": [
       "20"
      ]
     },
     "execution_count": 2,
     "metadata": {},
     "output_type": "execute_result"
    }
   ],
   "source": [
    "### without argument and with return\n",
    "def mul():\n",
    "    a=int(input())\n",
    "    b=int(input())\n",
    "    c=a*b\n",
    "    return(c)\n",
    "mul() \n",
    "\n",
    "\n",
    "\n"
   ]
  },
  {
   "cell_type": "code",
   "execution_count": 3,
   "metadata": {},
   "outputs": [
    {
     "data": {
      "text/plain": [
       "20"
      ]
     },
     "execution_count": 3,
     "metadata": {},
     "output_type": "execute_result"
    }
   ],
   "source": [
    "### with argument and with return\n",
    "def add(a,b):\n",
    "    c=a+b\n",
    "    return(c)\n",
    "add(14,6) "
   ]
  },
  {
   "cell_type": "code",
   "execution_count": 4,
   "metadata": {},
   "outputs": [
    {
     "name": "stdout",
     "output_type": "stream",
     "text": [
      "20\n"
     ]
    }
   ],
   "source": [
    "### with argument and without return\n",
    "def add(a,b):\n",
    "    c=a+b\n",
    "    print(c)\n",
    "add(14,6) "
   ]
  },
  {
   "cell_type": "code",
   "execution_count": 6,
   "metadata": {},
   "outputs": [
    {
     "name": "stdout",
     "output_type": "stream",
     "text": [
      "6\n",
      "the factorial of a is:\n",
      "1\n",
      "the factorial of a is:\n",
      "2\n",
      "the factorial of a is:\n",
      "6\n",
      "the factorial of a is:\n",
      "24\n",
      "the factorial of a is:\n",
      "120\n",
      "the factorial of a is:\n",
      "720\n"
     ]
    }
   ],
   "source": [
    "### create function to find factorial of a number\n",
    "a=int(input())\n",
    "fact=1\n",
    "for i in range(1,a+1):\n",
    "    fact=fact*i\n",
    "    print(\"the factorial of a is:\")\n",
    "    print(fact)\n"
   ]
  },
  {
   "cell_type": "code",
   "execution_count": null,
   "metadata": {},
   "outputs": [],
   "source": []
  }
 ],
 "metadata": {
  "kernelspec": {
   "display_name": "Python 3",
   "language": "python",
   "name": "python3"
  },
  "language_info": {
   "codemirror_mode": {
    "name": "ipython",
    "version": 3
   },
   "file_extension": ".py",
   "mimetype": "text/x-python",
   "name": "python",
   "nbconvert_exporter": "python",
   "pygments_lexer": "ipython3",
   "version": "3.7.3"
  }
 },
 "nbformat": 4,
 "nbformat_minor": 2
}
